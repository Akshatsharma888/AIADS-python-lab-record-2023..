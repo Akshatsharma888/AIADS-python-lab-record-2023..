{
 "cells": [
  {
   "cell_type": "markdown",
   "id": "183b03b0",
   "metadata": {},
   "source": [
    "# AIADS python lab record 2023 Jan\n",
    ".........................................\n",
    "# Aiads 4 th sem Jan 2023,\n",
    "\n",
    "##  SUBMITTED BY      NAME = AKSHAT SHARMA\n",
    "## ENROLLMENT NO = 0108AI211004\n",
    "## SCH NO = 31693\n",
    "### SUB CODE = AI-2046\n",
    "### SUBJECT NAME = PYTHON\n",
    "\n",
    "##  SUBMITTED TO      RASHI KUMAR"
   ]
  },
  {
   "cell_type": "markdown",
   "id": "591724af",
   "metadata": {},
   "source": [
    "# Q1.Sum 3 number using python."
   ]
  },
  {
   "cell_type": "code",
   "execution_count": 1,
   "id": "fc9c8f34",
   "metadata": {},
   "outputs": [
    {
     "name": "stdout",
     "output_type": "stream",
     "text": [
      "22\n"
     ]
    }
   ],
   "source": [
    "\n",
    "a = 8\n",
    "b = 5\n",
    "c = 9\n",
    "sum = a+b+c\n",
    "print(sum)"
   ]
  },
  {
   "cell_type": "markdown",
   "id": "1af93468",
   "metadata": {},
   "source": [
    "# Q2.Program to show various ways to read and write data in a file."
   ]
  },
  {
   "cell_type": "code",
   "execution_count": 2,
   "id": "a697693f",
   "metadata": {},
   "outputs": [
    {
     "name": "stdout",
     "output_type": "stream",
     "text": [
      "Output of Read function is \n",
      "Hello \n",
      "This is Delhi \n",
      "This is Paris \n",
      "This is London \n",
      "\n",
      "\n",
      "Output of Readline function is \n",
      "Hello \n",
      "\n",
      "\n",
      "Output of Read(9) function is \n",
      "Hello \n",
      "Th\n",
      "\n",
      "Output of Readline(9) function is \n",
      "Hello \n",
      "\n",
      "Output of Readlines function is \n",
      "['Hello \\n', 'This is Delhi \\n', 'This is Paris \\n', 'This is London \\n']\n",
      "\n"
     ]
    }
   ],
   "source": [
    "# Program to show various ways to read and\n",
    "# write data in a file.\n",
    "file1 = open(\"myfile.txt\",\"w\")\n",
    "L = [\"This is Delhi \\n\",\"This is Paris \\n\",\"This is London \\n\"]\n",
    "\n",
    "# \\n is placed to indicate EOL (End of Line)\n",
    "file1.write(\"Hello \\n\")\n",
    "file1.writelines(L)\n",
    "file1.close() #to change file access modes\n",
    "\n",
    "file1 = open(\"myfile.txt\",\"r+\")\n",
    "\n",
    "print(\"Output of Read function is \")\n",
    "print(file1.read())\n",
    "print()\n",
    "\n",
    "# seek(n) takes the file handle to the nth\n",
    "# byte from the beginning.\n",
    "file1.seek(0)\n",
    "\n",
    "print( \"Output of Readline function is \")\n",
    "print(file1.readline())\n",
    "print()\n",
    "\n",
    "file1.seek(0)\n",
    "\n",
    "# To show difference between read and readline\n",
    "print(\"Output of Read(9) function is \")\n",
    "print(file1.read(9))\n",
    "print()\n",
    "\n",
    "file1.seek(0)\n",
    "\n",
    "print(\"Output of Readline(9) function is \")\n",
    "print(file1.readline(9))\n",
    "\n",
    "file1.seek(0)\n",
    "# readlines function\n",
    "print(\"Output of Readlines function is \")\n",
    "print(file1.readlines())\n",
    "print()\n",
    "file1.close()\n"
   ]
  },
  {
   "cell_type": "markdown",
   "id": "8dc5fd4f",
   "metadata": {},
   "source": [
    "# Q3.Python program to check whether the number is positive, negative."
   ]
  },
  {
   "cell_type": "code",
   "execution_count": 3,
   "id": "36f853c0",
   "metadata": {},
   "outputs": [
    {
     "name": "stdout",
     "output_type": "stream",
     "text": [
      "Enter a number: 9\n",
      "Positive number\n"
     ]
    }
   ],
   "source": [
    "num = float(input(\"Enter a number: \"))\n",
    "if num >= 0:\n",
    "   if num == 0:\n",
    "       print(\"Zero\")\n",
    "   else:\n",
    "       print(\"Positive number\")\n",
    "else:\n",
    "   print(\"Negative number\")\n"
   ]
  },
  {
   "cell_type": "markdown",
   "id": "8562fc93",
   "metadata": {},
   "source": [
    "# Q4.Python program to find the largest "
   ]
  },
  {
   "cell_type": "code",
   "execution_count": 4,
   "id": "98087f22",
   "metadata": {},
   "outputs": [
    {
     "name": "stdout",
     "output_type": "stream",
     "text": [
      "Largest element is: 99\n"
     ]
    }
   ],
   "source": [
    "\n",
    "# Python program to find largest\n",
    "# number in a list\n",
    "\n",
    "# list of numbers\n",
    "list1 = [10, 20, 4, 45, 99]\n",
    "\n",
    "# sorting the list\n",
    "list1.sort()\n",
    "\n",
    "# printing the last element\n",
    "print(\"Largest element is:\", list1[-1])\n",
    "\n",
    "\n"
   ]
  },
  {
   "cell_type": "markdown",
   "id": "3f6ce02f",
   "metadata": {},
   "source": [
    "# Q 5.Python print day name of week from number."
   ]
  },
  {
   "cell_type": "code",
   "execution_count": 5,
   "id": "fe9d8128",
   "metadata": {},
   "outputs": [
    {
     "name": "stdout",
     "output_type": "stream",
     "text": [
      "Enter weekday day number (1-7) : 5\n",
      "\n",
      "Friday\n"
     ]
    }
   ],
   "source": [
    "# Taken day number from user\n",
    "weekday = int(input(\"Enter weekday day number (1-7) : \"))\n",
    "\n",
    "if weekday == 1 :\n",
    "    print(\"\\nMonday\");\n",
    "\n",
    "elif weekday == 2 :\n",
    "    print(\"\\nTuesday\")\n",
    "\n",
    "elif(weekday == 3) :\n",
    "    print(\"\\nWednesday\")\n",
    "\n",
    "elif(weekday == 4) :\n",
    "    print(\"\\nThursday\")\n",
    "\n",
    "elif(weekday == 5) :\n",
    "    print(\"\\nFriday\")\n",
    "\n",
    "elif(weekday == 6) :\n",
    "    print(\"\\nSaturday\")\n",
    "\n",
    "elif (weekday == 7) :\n",
    "    print(\"\\nSunday\")\n",
    "\n",
    "else :\n",
    "    print(\"\\nPlease enter weekday number between 1-7.\")"
   ]
  },
  {
   "cell_type": "markdown",
   "id": "d3c774b5",
   "metadata": {},
   "source": [
    "# Q.6 Python Program to Check Prime Number."
   ]
  },
  {
   "cell_type": "code",
   "execution_count": 6,
   "id": "0eb32ace",
   "metadata": {},
   "outputs": [
    {
     "name": "stdout",
     "output_type": "stream",
     "text": [
      "False\n"
     ]
    }
   ],
   "source": [
    "from math import sqrt\n",
    "# n is the number to be check whether it is prime or not\n",
    "n = 1\n",
    "\n",
    "# this flag maintains status whether the n is prime or not\n",
    "prime_flag = 0\n",
    "\n",
    "if(n > 1):\n",
    "\tfor i in range(2, int(sqrt(n)) + 1):\n",
    "\t\tif (n % i == 0):\n",
    "\t\t\tprime_flag = 1\n",
    "\t\t\tbreak\n",
    "\tif (prime_flag == 0):\n",
    "\t\tprint(\"True\")\n",
    "\telse:\n",
    "\t\tprint(\"False\")\n",
    "else:\n",
    "\tprint(\"False\")\n"
   ]
  },
  {
   "cell_type": "markdown",
   "id": "7f771ec2",
   "metadata": {},
   "source": [
    "# Q.7 Python Program to Check  a number whether it is Palindrome or not."
   ]
  },
  {
   "cell_type": "code",
   "execution_count": 7,
   "id": "9d9bae2f",
   "metadata": {},
   "outputs": [
    {
     "name": "stdout",
     "output_type": "stream",
     "text": [
      "Enter a letter:akhat\n",
      "The letter is not a palindrome\n"
     ]
    }
   ],
   "source": [
    "'''program to detect if leter is a palindrome or not '''\n",
    "\n",
    "string=input((\"Enter a letter:\"))  \n",
    "if(string==string[::-1]):  \n",
    "      print(\"The letter is a palindrome\")  \n",
    "else:  \n",
    "      print(\"The letter is not a palindrome\")  "
   ]
  },
  {
   "cell_type": "markdown",
   "id": "fdaf2c01",
   "metadata": {},
   "source": [
    "# Q.8 find the factorial of a number with recursion."
   ]
  },
  {
   "cell_type": "code",
   "execution_count": 8,
   "id": "9250056e",
   "metadata": {},
   "outputs": [
    {
     "name": "stdout",
     "output_type": "stream",
     "text": [
      "The factorial of 10 is 3628800\n"
     ]
    }
   ],
   "source": [
    "# Factorial of a number using recursion\n",
    "\n",
    "def recur_factorial(n):\n",
    "   if n == 1:\n",
    "       return n\n",
    "   else:\n",
    "       return n*recur_factorial(n-1)\n",
    "\n",
    "num = 10\n",
    "\n",
    "# check if the number is negative\n",
    "if num < 0:\n",
    "   print(\"Sorry, factorial does not exist for negative numbers\")\n",
    "elif num == 0:\n",
    "   print(\"The factorial of 0 is 1\")\n",
    "else:\n",
    "   print(\"The factorial of\", num, \"is\", recur_factorial(num))\n"
   ]
  },
  {
   "cell_type": "markdown",
   "id": "b2c54996",
   "metadata": {},
   "source": [
    "# Q.8 find the factorial of a number WITHOUT without recursion."
   ]
  },
  {
   "cell_type": "code",
   "execution_count": 9,
   "id": "02c22e8b",
   "metadata": {},
   "outputs": [
    {
     "name": "stdout",
     "output_type": "stream",
     "text": [
      "Enter number:5\n",
      "Factorial of the number is: \n",
      "120\n"
     ]
    }
   ],
   "source": [
    "n=int(input(\"Enter number:\"))\n",
    "fact=1\n",
    "while(n>0):\n",
    "    fact=fact*n\n",
    "    n=n-1\n",
    "print(\"Factorial of the number is: \")\n",
    "print(fact)"
   ]
  },
  {
   "cell_type": "markdown",
   "id": "c6878236",
   "metadata": {},
   "source": [
    "# Q.9 Compare two list whather they are same or not.\n"
   ]
  },
  {
   "cell_type": "code",
   "execution_count": 10,
   "id": "76068205",
   "metadata": {},
   "outputs": [
    {
     "name": "stdout",
     "output_type": "stream",
     "text": [
      "The first list is : [1, 2, 4, 3, 5]\n",
      "The second list is : [1, 2, 4, 3, 5]\n",
      "The lists are identical\n"
     ]
    }
   ],
   "source": [
    "# Python 3 code to demonstrate\n",
    "# check if list are identical\n",
    "# using collections.Counter()\n",
    "import collections\n",
    "\n",
    "# initializing lists\n",
    "test_list1 = [1, 2, 4, 3, 5]\n",
    "test_list2 = [1, 2, 4, 3, 5]\n",
    "\n",
    "# printing lists\n",
    "print(\"The first list is : \" + str(test_list1))\n",
    "print(\"The second list is : \" + str(test_list2))\n",
    "\n",
    "# using collections.Counter() to check if\n",
    "# lists are equal\n",
    "if collections.Counter(test_list1) == collections.Counter(test_list2):\n",
    "\tprint(\"The lists are identical\")\n",
    "else:\n",
    "\tprint(\"The lists are not identical\")\n"
   ]
  },
  {
   "cell_type": "markdown",
   "id": "f704e16a",
   "metadata": {},
   "source": [
    "# Q.10 Use lambda function."
   ]
  },
  {
   "cell_type": "code",
   "execution_count": 11,
   "id": "565b5988",
   "metadata": {},
   "outputs": [
    {
     "name": "stdout",
     "output_type": "stream",
     "text": [
      "TAHSKA\n"
     ]
    }
   ],
   "source": [
    "str1 = 'akshat'\n",
    "\n",
    "# lambda returns a function object\n",
    "rev_upper = lambda string: string.upper()[::-1]\n",
    "print(rev_upper(str1))\n"
   ]
  },
  {
   "cell_type": "markdown",
   "id": "59a4e2f4",
   "metadata": {},
   "source": [
    "# Q.11 Swapping variables in python with a function."
   ]
  },
  {
   "cell_type": "code",
   "execution_count": 12,
   "id": "34ea01f1",
   "metadata": {},
   "outputs": [
    {
     "name": "stdout",
     "output_type": "stream",
     "text": [
      "The value of x after swapping: 10\n",
      "The value of y after swapping: 5\n"
     ]
    }
   ],
   "source": [
    "# Python program to swap two variables\n",
    "\n",
    "x = 5\n",
    "y = 10\n",
    "\n",
    "# To take inputs from the user\n",
    "#x = input('Enter value of x: ')\n",
    "#y = input('Enter value of y: ')\n",
    "\n",
    "# create a temporary variable and swap the values\n",
    "temp = x\n",
    "x = y\n",
    "y = temp\n",
    "\n",
    "print('The value of x after swapping: {}'.format(x))\n",
    "print('The value of y after swapping: {}'.format(y))\n"
   ]
  },
  {
   "cell_type": "markdown",
   "id": "d4194448",
   "metadata": {},
   "source": [
    "# Q.12 Python Program for Fibonacci numbers"
   ]
  },
  {
   "cell_type": "code",
   "execution_count": 13,
   "id": "6c258de6",
   "metadata": {},
   "outputs": [
    {
     "name": "stdout",
     "output_type": "stream",
     "text": [
      "How many terms? 9\n",
      "Fibonacci sequence:\n",
      "0\n",
      "1\n",
      "1\n",
      "2\n",
      "3\n",
      "5\n",
      "8\n",
      "13\n",
      "21\n"
     ]
    }
   ],
   "source": [
    "# Program to display the Fibonacci sequence up to n-th term\n",
    "\n",
    "nterms = int(input(\"How many terms? \"))\n",
    "\n",
    "# first two terms\n",
    "n1, n2 = 0, 1\n",
    "count = 0\n",
    "\n",
    "# check if the number of terms is valid\n",
    "if nterms <= 0:\n",
    "   print(\"Please enter a positive integer\")\n",
    "# if there is only one term, return n1\n",
    "elif nterms == 1:\n",
    "   print(\"Fibonacci sequence upto\",nterms,\":\")\n",
    "   print(n1)\n",
    "# generate fibonacci sequence\n",
    "else:\n",
    "   print(\"Fibonacci sequence:\")\n",
    "   while count < nterms:\n",
    "       print(n1)\n",
    "       nth = n1 + n2\n",
    "       # update values\n",
    "       n1 = n2\n",
    "       n2 = nth\n",
    "       count += 1"
   ]
  },
  {
   "cell_type": "markdown",
   "id": "e7feb62b",
   "metadata": {},
   "source": [
    "# Q.13 Binary Search in python "
   ]
  },
  {
   "cell_type": "code",
   "execution_count": 14,
   "id": "a1e7f54d",
   "metadata": {},
   "outputs": [
    {
     "name": "stdout",
     "output_type": "stream",
     "text": [
      "Element is present at index 3\n"
     ]
    }
   ],
   "source": [
    "# Python 3 program for recursive binary search.\n",
    "# Modifications needed for the older Python 2 are found in comments.\n",
    "\n",
    "# Returns index of x in arr if present, else -1\n",
    "def binary_search(arr, low, high, x):\n",
    "\n",
    "\t# Check base case\n",
    "\tif high >= low:\n",
    "\n",
    "\t\tmid = (high + low) // 2\n",
    "\n",
    "\t\t# If element is present at the middle itself\n",
    "\t\tif arr[mid] == x:\n",
    "\t\t\treturn mid\n",
    "\n",
    "\t\t# If element is smaller than mid, then it can only\n",
    "\t\t# be present in left subarray\n",
    "\t\telif arr[mid] > x:\n",
    "\t\t\treturn binary_search(arr, low, mid - 1, x)\n",
    "\n",
    "\t\t# Else the element can only be present in right subarray\n",
    "\t\telse:\n",
    "\t\t\treturn binary_search(arr, mid + 1, high, x)\n",
    "\n",
    "\telse:\n",
    "\t\t# Element is not present in the array\n",
    "\t\treturn -1\n",
    "\n",
    "# Test array\n",
    "arr = [ 2, 3, 4, 10, 40 ]\n",
    "x = 10\n",
    "\n",
    "# Function call\n",
    "result = binary_search(arr, 0, len(arr)-1, x)\n",
    "\n",
    "if result != -1:\n",
    "\tprint(\"Element is present at index\", str(result))\n",
    "else:\n",
    "\tprint(\"Element is not present in array\")\n"
   ]
  },
  {
   "cell_type": "markdown",
   "id": "a556cf1f",
   "metadata": {},
   "source": [
    "# Q.14 Use filter function in python."
   ]
  },
  {
   "cell_type": "code",
   "execution_count": 15,
   "id": "bf8e5ef0",
   "metadata": {},
   "outputs": [
    {
     "name": "stdout",
     "output_type": "stream",
     "text": [
      "The filtered letters are:\n",
      "e\n",
      "e\n"
     ]
    }
   ],
   "source": [
    "# function that filters \n",
    "def fun(variable):\n",
    "\tletters = ['a', 'e', 'i', 'o', 'u']\n",
    "\tif (variable in letters):\n",
    "\t\treturn True\n",
    "\telse:\n",
    "\t\treturn False\n",
    "\n",
    "\n",
    "# sequence\n",
    "sequence = ['g', 'e', 'e', 'j', 'k', 's', 'p', 'r']\n",
    "\n",
    "# using filter function\n",
    "filtered = filter(fun, sequence)\n",
    "\n",
    "print('The filtered letters are:')\n",
    "for s in filtered:\n",
    "\tprint(s)\n"
   ]
  },
  {
   "cell_type": "markdown",
   "id": "8bd340c1",
   "metadata": {},
   "source": [
    "# Q.15 Use math function in python "
   ]
  },
  {
   "cell_type": "code",
   "execution_count": 16,
   "id": "9ed0a599",
   "metadata": {},
   "outputs": [
    {
     "data": {
      "text/plain": [
       "2.0"
      ]
     },
     "execution_count": 16,
     "metadata": {},
     "output_type": "execute_result"
    }
   ],
   "source": [
    "# Square root calculation\n",
    "\n",
    "import math\n",
    "math.sqrt(4)"
   ]
  },
  {
   "cell_type": "markdown",
   "id": "f9340ab5",
   "metadata": {},
   "source": [
    "# Q.16. Double a List using map function "
   ]
  },
  {
   "cell_type": "code",
   "execution_count": 17,
   "id": "657323a2",
   "metadata": {},
   "outputs": [
    {
     "name": "stdout",
     "output_type": "stream",
     "text": [
      "[2, 4, 6, 8]\n"
     ]
    }
   ],
   "source": [
    "'''write a program for map() function to double all the items in the list'''\n",
    "def addition(n):\n",
    "    return n + n\n",
    "  \n",
    "\n",
    "numbers = (1, 2, 3, 4)\n",
    "result = map(addition, numbers)\n",
    "print(list(result))"
   ]
  },
  {
   "cell_type": "markdown",
   "id": "4031fb23",
   "metadata": {},
   "source": [
    "# Q.17 Use reduce function and add two number."
   ]
  },
  {
   "cell_type": "code",
   "execution_count": 18,
   "id": "274ad6da",
   "metadata": {},
   "outputs": [
    {
     "name": "stdout",
     "output_type": "stream",
     "text": [
      "10\n"
     ]
    }
   ],
   "source": [
    "from functools import reduce \n",
    "\n",
    "nums = [1, 2, 3, 4]\n",
    "ans = reduce(lambda x, y: x + y, nums)\n",
    "print(ans) \n"
   ]
  },
  {
   "cell_type": "code",
   "execution_count": 19,
   "id": "81c574c7",
   "metadata": {},
   "outputs": [
    {
     "name": "stdout",
     "output_type": "stream",
     "text": [
      "15\n"
     ]
    }
   ],
   "source": [
    "def reduce(function, iterable, initializer=None):\n",
    "    it = iter(iterable)\n",
    "    if initializer is None:\n",
    "        value = next(it)\n",
    "    else:\n",
    "        value = initializer\n",
    "    for element in it:\n",
    "        value = function(value, element)\n",
    "    return value\n",
    " \n",
    "# Note that the initializer, when not None, is used as the first value instead of the first value from iterable , and after the whole iterable.\n",
    "tup = (2,1,0,2,2,0,0,2)\n",
    "print(reduce(lambda x, y: x+y, tup,6))"
   ]
  },
  {
   "cell_type": "markdown",
   "id": "8851cd85",
   "metadata": {},
   "source": [
    "# Q.18 Write Python code to get the Cumulative sum of a list."
   ]
  },
  {
   "cell_type": "code",
   "execution_count": 20,
   "id": "7d113880",
   "metadata": {},
   "outputs": [
    {
     "name": "stdout",
     "output_type": "stream",
     "text": [
      "[10, 30, 60, 100, 150]\n"
     ]
    }
   ],
   "source": [
    "list=[10,20,30,40,50]\n",
    "new_list=[] \n",
    "j=0 \n",
    "for i in range(0,len(list)):\n",
    "    j+=list[i]\n",
    "    new_list.append(j) \n",
    "      \n",
    "print(new_list) \n",
    "#code given by Divyanshu singh"
   ]
  },
  {
   "cell_type": "markdown",
   "id": "3cf1270e",
   "metadata": {},
   "source": [
    "# Q.19 creating accumulator function (python) "
   ]
  },
  {
   "cell_type": "code",
   "execution_count": 21,
   "id": "e29656e2",
   "metadata": {},
   "outputs": [
    {
     "name": "stdout",
     "output_type": "stream",
     "text": [
      "1\n",
      "2\n",
      "6\n",
      "24\n",
      "120\n"
     ]
    }
   ],
   "source": [
    "'''use of acumulate function'''\n",
    "import itertools\n",
    "  \n",
    "\n",
    "import operator\n",
    "  \n",
    "\n",
    "GFG = [1, 2, 3, 4, 5]\n",
    "  \n",
    "\n",
    "result = itertools.accumulate(GFG, \n",
    "                              operator.mul)\n",
    "  \n",
    "\n",
    "for each in result:\n",
    "    print(each)"
   ]
  },
  {
   "cell_type": "markdown",
   "id": "05abf654",
   "metadata": {},
   "source": [
    "# Q.20 Python program to display calendar of "
   ]
  },
  {
   "cell_type": "code",
   "execution_count": 22,
   "id": "f3f678e8",
   "metadata": {},
   "outputs": [
    {
     "name": "stdout",
     "output_type": "stream",
     "text": [
      "   November 2014\n",
      "Mo Tu We Th Fr Sa Su\n",
      "                1  2\n",
      " 3  4  5  6  7  8  9\n",
      "10 11 12 13 14 15 16\n",
      "17 18 19 20 21 22 23\n",
      "24 25 26 27 28 29 30\n",
      "\n"
     ]
    }
   ],
   "source": [
    "# Program to display calendar of the given month and year\n",
    "\n",
    "# importing calendar module\n",
    "import calendar\n",
    "\n",
    "yy = 2014  # year\n",
    "mm = 11    # month\n",
    "\n",
    "# To take month and year input from the user\n",
    "# yy = int(input(\"Enter year: \"))\n",
    "# mm = int(input(\"Enter month: \"))\n",
    "\n",
    "# display the calendar\n",
    "print(calendar.month(yy, mm))\n"
   ]
  },
  {
   "cell_type": "markdown",
   "id": "d58edc71",
   "metadata": {},
   "source": [
    "# Q 21 Use datetime function ."
   ]
  },
  {
   "cell_type": "code",
   "execution_count": 23,
   "id": "138f6963",
   "metadata": {},
   "outputs": [
    {
     "name": "stdout",
     "output_type": "stream",
     "text": [
      "2023-03-23 19:01:35.077393\n"
     ]
    }
   ],
   "source": [
    "import datetime\n",
    "\n",
    "# get the current date and time\n",
    "now = datetime.datetime.now()\n",
    "\n",
    "print(now)"
   ]
  },
  {
   "cell_type": "markdown",
   "id": "37aeeb4f",
   "metadata": {},
   "source": [
    "# Q.22 Write a python code to add some days to current date  using date function."
   ]
  },
  {
   "cell_type": "code",
   "execution_count": 24,
   "id": "d7328b13",
   "metadata": {},
   "outputs": [
    {
     "name": "stdout",
     "output_type": "stream",
     "text": [
      "2019-05-15 00:00:00\n"
     ]
    }
   ],
   "source": [
    "import pandas as pd\n",
    "\n",
    "initial_date = \"2019-05-12\"\n",
    "req_date = pd.to_datetime(initial_date) + pd.DateOffset(days=3)\n",
    "print(req_date)"
   ]
  },
  {
   "cell_type": "markdown",
   "id": "93e349d6",
   "metadata": {},
   "source": [
    "# Q.23 Use type,shape,dtype in numpay."
   ]
  },
  {
   "cell_type": "code",
   "execution_count": 25,
   "id": "e58aced5",
   "metadata": {},
   "outputs": [
    {
     "name": "stdout",
     "output_type": "stream",
     "text": [
      "Byte order is: >\n",
      "Size is: 4\n",
      "Data type is: int32\n"
     ]
    }
   ],
   "source": [
    "# Python Program to create a data type object\n",
    "# containing a 32 bit big-endian integer\n",
    "import numpy as np\n",
    "\n",
    "# i4 represents integer of size 4 byte\n",
    "# > represents big-endian byte ordering and < represents little-endian encoding.\n",
    "# dt is a dtype object\n",
    "dt = np.dtype('>i4')\n",
    "\n",
    "print(\"Byte order is:\",dt.byteorder)\n",
    "\n",
    "print(\"Size is:\",dt.itemsize)\n",
    "\n",
    "print(\"Data type is:\",dt.name)\n"
   ]
  },
  {
   "cell_type": "code",
   "execution_count": null,
   "id": "f902fab4",
   "metadata": {},
   "outputs": [],
   "source": []
  }
 ],
 "metadata": {
  "kernelspec": {
   "display_name": "Python 3 (ipykernel)",
   "language": "python",
   "name": "python3"
  },
  "language_info": {
   "codemirror_mode": {
    "name": "ipython",
    "version": 3
   },
   "file_extension": ".py",
   "mimetype": "text/x-python",
   "name": "python",
   "nbconvert_exporter": "python",
   "pygments_lexer": "ipython3",
   "version": "3.10.8"
  }
 },
 "nbformat": 4,
 "nbformat_minor": 5
}
